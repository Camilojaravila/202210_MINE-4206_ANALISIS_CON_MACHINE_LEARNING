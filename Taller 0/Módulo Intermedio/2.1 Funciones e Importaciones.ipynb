{
  "cells": [
    {
      "cell_type": "markdown",
      "metadata": {
        "id": "view-in-github",
        "colab_type": "text"
      },
      "source": [
        "<a href=\"https://colab.research.google.com/github/Camilojaravila/202210_MINE-4206_ANALISIS_CON_MACHINE_LEARNING/blob/main/Taller%200/M%C3%B3dulo%20Intermedio/2.1%20Funciones%20e%20Importaciones.ipynb\" target=\"_parent\"><img src=\"https://colab.research.google.com/assets/colab-badge.svg\" alt=\"Open In Colab\"/></a>"
      ]
    },
    {
      "cell_type": "markdown",
      "metadata": {
        "id": "DidDekHj23BR"
      },
      "source": [
        "# Bienvenidos al Taller de Python Intermedio para Análisis con Machine Learning\n",
        "**Autor:** [Juan Camilo Jaramillo Ávila](mailto:jc.jaramillo10@uniandes.edu.co)"
      ]
    },
    {
      "cell_type": "markdown",
      "metadata": {
        "id": "V-YumuT123BU"
      },
      "source": [
        "### Funciones\n",
        "Para definir una función en Python se debe utilizar la instrucción ```def```seguido del nombre de la función, unos paréntesis ```()``` y para finalizar dos puntos ```:```. Para definir las instrucciones dentro de la función debe estar identado con 4 espacios. "
      ]
    },
    {
      "cell_type": "code",
      "execution_count": null,
      "metadata": {
        "id": "yLcOwiAP23BV"
      },
      "outputs": [],
      "source": [
        "def miFuncion():\n",
        "    print('Hola mundo')\n",
        "    \n",
        "miFuncion()"
      ]
    },
    {
      "cell_type": "markdown",
      "metadata": {
        "id": "0yCqAsBq23BX"
      },
      "source": [
        "Una función no solo resume un pedazo de código, también permite procesar información con los argumentos recibidos y retornar datos que pueden ser asignados a una variable. No es necesario definir el tipo del parámetro esperado en la función."
      ]
    },
    {
      "cell_type": "code",
      "execution_count": null,
      "metadata": {
        "id": "bZHsDcoC23BX"
      },
      "outputs": [],
      "source": [
        "def cuadradoYCubo(num):\n",
        "    return num**2, num**3\n",
        "\n",
        "res = cuadradoYCubo(3)\n",
        "print(res)"
      ]
    },
    {
      "cell_type": "markdown",
      "metadata": {
        "id": "bJOXS40i23BY"
      },
      "source": [
        "También se pueden asignar parámetros opcionales a una función a través de los pares ```parametro = valor```."
      ]
    },
    {
      "cell_type": "code",
      "execution_count": null,
      "metadata": {
        "id": "2dUd7X7A23BY"
      },
      "outputs": [],
      "source": [
        "def saludo(nombre,mensaje='Hola'):\n",
        "    return mensaje + \" \" + nombre\n",
        "\n",
        "print(saludo(\"Pablo\"))\n",
        "print(saludo(\"Andrés\",\"Buenas Noches\"))\n",
        "#También se pueden deinir en cualquier orden, siempre y cuando se especifique a que parámetro pertenece\n",
        "print(saludo(mensaje=\"Estimada\",nombre=\"Paula\"))"
      ]
    },
    {
      "cell_type": "markdown",
      "metadata": {
        "id": "yHDjqQsS23BZ"
      },
      "source": [
        "### Scope\n",
        "En Python se maneja espacios o alcances para cada una de las variables que se definan. Estos espacios se llaman *scopes* y manejan una jeraquía que permite ser utilizadas o no. Por lo general las variables definidas dentro de una función se conocen como variables locales. Si no se retorna esa variable, se elimina de la memoria del computador<br>\n",
        "\n",
        "Por ejemplo:"
      ]
    },
    {
      "cell_type": "code",
      "execution_count": null,
      "metadata": {
        "id": "gKYxxq1023BZ"
      },
      "outputs": [],
      "source": [
        "a = 2\n",
        "b = 3\n",
        "\n",
        "def funcion2():\n",
        "    return c*b\n",
        "\n",
        "def funcion():\n",
        "    c = a+2\n",
        "    d = b*c\n",
        "    \n",
        "    return d\n",
        "\n",
        "print(a)\n",
        "print(funcion())\n",
        "print(c)\n",
        "    "
      ]
    },
    {
      "cell_type": "markdown",
      "metadata": {
        "id": "KivrAdK-23Ba"
      },
      "source": [
        "### Ejercicio #1\n",
        "\n",
        "Definir una función `distancia` que tome dos argumentos `a,b`, que sean listas de dos elementos, y calcule la distancia entre ellos usando tanto el teorema de Pitágoras como la distancia 'Manhattan':\n",
        "\n",
        "Pitágoras:\n",
        "$$\\sqrt{\\left(a_{1}-b_{1}\\right)^{2}+\\left(a_{2}-b_{2}\\right)^{2}}$$\n",
        "\n",
        "\n",
        "Manhattan:\n",
        "$$|a_{1}-b_{1}| + |a_{2}-b_{2}|$$\n",
        "\n",
        "<b>Pista:</b> Recuerde que realizar la raíz cuadrada de un número es equivalente a elevar el número a la $1/2$\n",
        "\n",
        "```python\n",
        "4 ** (1/2)\n",
        "```\n",
        "\n",
        "Pueden comprobar que la función está haciendo su trabajo correctamente si retorna estos valores:\n",
        "\n",
        "```python\n",
        "distancia([0,0], [1,1])\n",
        "1.4142135623730951, 2\n",
        "```\n",
        "\n",
        "```python\n",
        "distancia([1,5], [2,2])\n",
        "3.1622776601683795, 4\n",
        "```"
      ]
    },
    {
      "cell_type": "code",
      "execution_count": null,
      "metadata": {
        "id": "oCDBB1x_23Bb"
      },
      "outputs": [],
      "source": [
        ""
      ]
    },
    {
      "cell_type": "markdown",
      "metadata": {
        "id": "TrObvkER23Bb"
      },
      "source": [
        "### Ejercicio #2\n",
        "\n",
        "Definir una función `digitos` que tome un numero `x` y retorne los dígitos de que se compone, como cadenas. Por ejemplo, `digitos` debe retornar:\n",
        "\n",
        "```python\n",
        "digitos(1234)\n",
        "[1, 2, 3, 4]\n",
        "```\n",
        "\n",
        "```python\n",
        "digitos(99861)\n",
        "[1, 6, 8, 9]\n",
        "```\n",
        "\n",
        "**Nota**: Si se repiten los digitos solo debería aparecer una vez. Si están ordenados mejor"
      ]
    },
    {
      "cell_type": "code",
      "execution_count": null,
      "metadata": {
        "id": "wyMqb2PY23Bc"
      },
      "outputs": [],
      "source": [
        ""
      ]
    },
    {
      "cell_type": "markdown",
      "metadata": {
        "id": "L8iX2TEN23Bc"
      },
      "source": [
        "### Importación de códigos, paquetes o librerías\n",
        "Python permite importar código utilizado en otros archivos. Esto es una ventaja ya que permite una mejor mantenibilidad y entendimiento del código, así como evitar la redundancia y obtener una meyor eficiencia en la ejecución. A esto se le llaman paquetes<br>\n",
        "Las librerías son paquetes desarrollados por expertos que permiten realizar diferentes tipos de funciones de manera rápida y eficiente. Por lo general estas librerías están definidas bajo cierto protocolo de sintáxis, documentación, y sub-rutinas de desarrollo.<br><br>\n",
        "Pero primero, vamos a aprender a importar código desarrollado por nostros mismos. Para eso, utilizaremos el archivo ```funciones.py``` a través de la sintáxis."
      ]
    },
    {
      "cell_type": "code",
      "execution_count": null,
      "metadata": {
        "id": "cexxBuV423Bc"
      },
      "outputs": [],
      "source": [
        "import funciones\n",
        "funciones.jugar()"
      ]
    },
    {
      "cell_type": "markdown",
      "metadata": {
        "id": "V49PknDW23Bd"
      },
      "source": [
        "Con la sintaxis anterior Python importa todas las funciones y todo el código que se encuentre en el archivo. Sin embargo, si nosotros queremos sólo una función del archivo se pue hacer de la siguiente forma. "
      ]
    },
    {
      "cell_type": "code",
      "execution_count": null,
      "metadata": {
        "id": "JHaFz16y23Bd"
      },
      "outputs": [],
      "source": [
        "from funciones import imprimir_doble\n",
        "imprimir_doble(\"Hola\")"
      ]
    },
    {
      "cell_type": "markdown",
      "metadata": {
        "id": "NmvNCAvB23Bd"
      },
      "source": [
        "Así mismo, se pueden crear alias de los paquetes o funciones que se importe. Con esto podremos llamar las funcoinalidades del codigo de una manera más apropiada."
      ]
    },
    {
      "cell_type": "code",
      "execution_count": null,
      "metadata": {
        "id": "8wZkW4Q_23Bd"
      },
      "outputs": [],
      "source": [
        "import funciones as fun\n",
        "fun.jugar()"
      ]
    },
    {
      "cell_type": "code",
      "execution_count": null,
      "metadata": {
        "id": "CgPLILPH23Bd"
      },
      "outputs": [],
      "source": [
        "from funciones import distancia as dis\n",
        "x1 = [2,2]\n",
        "x2 = [1,3]\n",
        "dis(x1,x2)"
      ]
    },
    {
      "cell_type": "code",
      "execution_count": null,
      "metadata": {
        "id": "MJhfzFg323Be"
      },
      "outputs": [],
      "source": [
        ""
      ]
    }
  ],
  "metadata": {
    "kernelspec": {
      "display_name": "Python 3",
      "language": "python",
      "name": "python3"
    },
    "language_info": {
      "codemirror_mode": {
        "name": "ipython",
        "version": 3
      },
      "file_extension": ".py",
      "mimetype": "text/x-python",
      "name": "python",
      "nbconvert_exporter": "python",
      "pygments_lexer": "ipython3",
      "version": "3.7.1"
    },
    "colab": {
      "name": "2.1 Funciones e Importaciones.ipynb",
      "provenance": [],
      "include_colab_link": true
    }
  },
  "nbformat": 4,
  "nbformat_minor": 0
}